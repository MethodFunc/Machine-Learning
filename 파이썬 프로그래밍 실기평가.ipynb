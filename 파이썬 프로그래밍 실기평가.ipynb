{
 "cells": [
  {
   "cell_type": "code",
   "execution_count": 14,
   "metadata": {},
   "outputs": [],
   "source": [
    "import pandas as pd\n",
    "from bs4 import BeautifulSoup as BS\n",
    "import urllib.request as req\n",
    "import matplotlib as mpl\n",
    "import matplotlib.pyplot as plt\n",
    "import math\n",
    "import numpy as np\n",
    "%matplotlib inline\n",
    "# Korean Setting , Minus 표시\n",
    "mpl.rcParams['axes.unicode_minus'] = False\n",
    "# family = 폰트 이름 size = 사이즈 크기\n",
    "mpl.rc('font', family='D2Coding', size=12)\n",
    "# Graph 크기 변경\n",
    "plt.rcParams[\"figure.figsize\"]= (15,9)"
   ]
  },
  {
   "cell_type": "markdown",
   "metadata": {},
   "source": [
    "## 1. 아랫줄에 * 가 7개인 산 모양 2개를 출력하는 프로그램을 For loop을 사용해서 만드시오.\n",
    "## 단, 산관 산 사이에는 공백이 한개 있음"
   ]
  },
  {
   "cell_type": "code",
   "execution_count": 46,
   "metadata": {
    "scrolled": true
   },
   "outputs": [
    {
     "name": "stdout",
     "output_type": "stream",
     "text": [
      "number : 7\n",
      "       *              *\n",
      "      ***            ***\n",
      "     *****          *****\n",
      "    *******        *******\n",
      "   *********      *********\n",
      "  ***********    ***********\n",
      " *************  *************\n"
     ]
    }
   ],
   "source": [
    "n = int(input('number : '))\n",
    "\n",
    "for i in range(1, n+1):\n",
    "\n",
    "    print(\" \"*(n-i), \"*\"*(2*i-1), \" \"*2*(n-i), \"*\"*(2*i-1))"
   ]
  },
  {
   "cell_type": "markdown",
   "metadata": {},
   "source": [
    "## 2. 다음의 지뢰찾기 문제를 해결해보시오\n",
    "## . 정수n을 매개변수로 하여 크기가 (n,n)인 리스트를 만들고 여기에 *, ,을 랜덤하게 채워 출력하고 리턴하는 함수 create_mine(n)을 만드시오\n",
    "## . 최종 결과를 보여주는 프로그램을 작성하시오 *는 지뢰 .은 지뢰 아님 지뢰가 아닌 요소에는 인접한 지뢰의 갯수를 출력해야함"
   ]
  },
  {
   "cell_type": "code",
   "execution_count": 3,
   "metadata": {},
   "outputs": [],
   "source": [
    "def create_mine(n):\n",
    "    if n < 3:\n",
    "        print('3이상으로 입력해주세요.')\n",
    "    else:\n",
    "        mine_pool = '.*'\n",
    "        mine_field= np.random.randint(0, 2, size=(n, n))\n",
    "        \n",
    "        mine_field= mine_field.tolist()\n",
    "        \n",
    "    for i in range(n):\n",
    "        for j in range(n):\n",
    "            if mine_field[i][j] == 0:\n",
    "                mine_field[i][j] = '.'\n",
    "            else:\n",
    "                mine_field[i][j] = '*'\n",
    "        \n",
    "    return mine_field"
   ]
  },
  {
   "cell_type": "code",
   "execution_count": 4,
   "metadata": {},
   "outputs": [
    {
     "name": "stdout",
     "output_type": "stream",
     "text": [
      "n을 입력하세요(n >= 3) : 5\n",
      "013**\n",
      "12**3\n",
      "*5553\n",
      "*****\n",
      "3*432\n"
     ]
    }
   ],
   "source": [
    "n = int(input('n을 입력하세요(n >= 3) : '))\n",
    "create = create_mine(n)\n",
    "for x in range(n):\n",
    "    for y in range(n):\n",
    "        if create[x][y] == '*':\n",
    "            print(create[x][y], sep='', end= '')\n",
    "        else:\n",
    "            count = 0\n",
    "            for xo in range(-1,2):\n",
    "                for yo in range(-1,2):\n",
    "                    if 0 <= x + xo < n and 0 <= y + yo < n and create[x+xo][y+yo] == '*':\n",
    "                            count += 1\n",
    "            print(count, sep='', end='')\n",
    "    print()"
   ]
  },
  {
   "cell_type": "markdown",
   "metadata": {},
   "source": [
    "## 3. 하이퍼볼릭 탄젠트 함수의 그래프를 -2*pi에서 2*pi까지 matpltlib 함수를 사용하여 그리시오"
   ]
  },
  {
   "cell_type": "code",
   "execution_count": 5,
   "metadata": {
    "scrolled": false
   },
   "outputs": [
    {
     "data": {
      "image/png": "[encoded data removed]",
      "text/plain": [
       "<Figure size 1080x648 with 1 Axes>"
      ]
     },
     "metadata": {
      "needs_background": "light"
     },
     "output_type": "display_data"
    }
   ],
   "source": [
    "x_data = np.linspace(-2 * np.pi, 2* np.pi, 201)\n",
    "\n",
    "plt.title('tanh')\n",
    "plt.plot(x_data, np.tanh(x_data), 'r',linewidth = 3)\n",
    "\n",
    "plt.grid(True)\n",
    "plt.show()"
   ]
  },
  {
   "cell_type": "markdown",
   "metadata": {},
   "source": [
    "## 4. 멜론 사이트 top100 크롤링하여 제목 가수 앨범명 전월순위 피드를 가지는 데이터 프레임을 만들고 1위에서 10위까지를 출력하는 프로그램을 작성하시오"
   ]
  },
  {
   "cell_type": "code",
   "execution_count": 6,
   "metadata": {},
   "outputs": [],
   "source": [
    "def Append_Field(Field):\n",
    "    for item in Field:\n",
    "        rank = item.find(class_='rank').get_text()\n",
    "        song = item.find_all(class_='wrap_song_info')[0].find(class_='ellipsis rank01').find('a').get_text()\n",
    "        singer = item.find_all(class_='wrap_song_info')[0].find(class_='ellipsis rank02').find('a').get_text()\n",
    "        album = item.find_all(class_='wrap_song_info')[1].find(class_='ellipsis rank03').get_text().strip()\n",
    "        \n",
    "        month_rank_1= item.find_all(class_='rank_wrap')[0].find_all(class_='none')[0].get_text()\n",
    "        new_rank = -1\n",
    "        \n",
    "            \n",
    "        Rank.append(rank)\n",
    "        \n",
    "        if month_rank_1  == '순위 동일':\n",
    "                month_rank_0 = item.find_all(class_='rank_wrap')[0].find_all(class_='none')[1].get_text()\n",
    "                Month_Rank.append(rank)\n",
    "        elif month_rank_1 == '단계 상승':\n",
    "                month_rank_up = item.find_all(class_='rank_wrap')[0].find(class_='up').get_text()\n",
    "                Month_Rank.append(int(rank) + int(month_rank_up))\n",
    "        elif month_rank_1 == '단계 하락':\n",
    "                 month_rank_down = item.find_all(class_='rank_wrap')[0].find(class_='down').get_text()\n",
    "                 Month_Rank.append(int(rank) - int(month_rank_down))\n",
    "        elif month_rank_1 == '순위 진입':\n",
    "                Month_Rank.append(new_rank)\n",
    "                \n",
    "        Song.append(song)\n",
    "        Singer.append(singer)\n",
    "        Album.append(album)"
   ]
  },
  {
   "cell_type": "code",
   "execution_count": 7,
   "metadata": {},
   "outputs": [],
   "source": [
    "# 1위 ~ 50위\n",
    "html = req.Request('https://www.melon.com/chart/index.htm',\n",
    "   headers={'User-Agent': 'Mozilla/5.0 (Macintosh; Intel Mac OS X 10_9_3) AppleWebKit/537.36 (KHTML, like Gecko) Chrome/35.0.1916.47 Safari/537.36'})\n",
    "page = req.urlopen(html)\n",
    "soup = BS(page, 'html.parser')"
   ]
  },
  {
   "cell_type": "code",
   "execution_count": 8,
   "metadata": {},
   "outputs": [],
   "source": [
    "Field = soup.find_all(class_='lst50')"
   ]
  },
  {
   "cell_type": "code",
   "execution_count": 9,
   "metadata": {},
   "outputs": [
    {
     "data": {
      "text/plain": [
       "'1'"
      ]
     },
     "execution_count": 9,
     "metadata": {},
     "output_type": "execute_result"
    }
   ],
   "source": [
    "# 순위\n",
    "Field[0].find(class_='rank').get_text()"
   ]
  },
  {
   "cell_type": "code",
   "execution_count": 10,
   "metadata": {},
   "outputs": [
    {
     "data": {
      "text/plain": [
       "'에잇(Prod.&Feat. SUGA of BTS)'"
      ]
     },
     "execution_count": 10,
     "metadata": {},
     "output_type": "execute_result"
    }
   ],
   "source": [
    "# 곡이름\n",
    "Field[0].find_all(class_='wrap_song_info')[0].find(class_='ellipsis rank01').find('a').get_text()"
   ]
  },
  {
   "cell_type": "code",
   "execution_count": 11,
   "metadata": {},
   "outputs": [
    {
     "data": {
      "text/plain": [
       "'아이유'"
      ]
     },
     "execution_count": 11,
     "metadata": {},
     "output_type": "execute_result"
    }
   ],
   "source": [
    "# 가수\n",
    "Field[0].find_all(class_='wrap_song_info')[0].find(class_='ellipsis rank02').find('a').get_text()"
   ]
  },
  {
   "cell_type": "code",
   "execution_count": 12,
   "metadata": {},
   "outputs": [
    {
     "data": {
      "text/plain": [
       "'에잇'"
      ]
     },
     "execution_count": 12,
     "metadata": {},
     "output_type": "execute_result"
    }
   ],
   "source": [
    "# 앨범명\n",
    "Field[0].find_all(class_='wrap_song_info')[1].find(class_='ellipsis rank03').get_text().strip()"
   ]
  },
  {
   "cell_type": "code",
   "execution_count": 13,
   "metadata": {},
   "outputs": [
    {
     "data": {
      "text/plain": [
       "'순위 동일'"
      ]
     },
     "execution_count": 13,
     "metadata": {},
     "output_type": "execute_result"
    }
   ],
   "source": [
    "Field[0].find_all(class_='rank_wrap')[0].find_all(class_='none')[0].get_text()"
   ]
  },
  {
   "cell_type": "code",
   "execution_count": 14,
   "metadata": {},
   "outputs": [
    {
     "data": {
      "text/plain": [
       "'1'"
      ]
     },
     "execution_count": 14,
     "metadata": {},
     "output_type": "execute_result"
    }
   ],
   "source": [
    "Field[10].find_all(class_='rank_wrap')[0].find_all(class_='up')[0].get_text()"
   ]
  },
  {
   "cell_type": "code",
   "execution_count": 15,
   "metadata": {},
   "outputs": [
    {
     "data": {
      "text/plain": [
       "'6'"
      ]
     },
     "execution_count": 15,
     "metadata": {},
     "output_type": "execute_result"
    }
   ],
   "source": [
    "Field[26].find(class_='rank_wrap').find(class_='down').get_text()"
   ]
  },
  {
   "cell_type": "code",
   "execution_count": 16,
   "metadata": {},
   "outputs": [],
   "source": [
    "Rank = []\n",
    "Month_Rank = []\n",
    "Song = []\n",
    "Singer = []\n",
    "Album = []"
   ]
  },
  {
   "cell_type": "code",
   "execution_count": 17,
   "metadata": {
    "scrolled": true
   },
   "outputs": [],
   "source": [
    "Append_Field(Field)"
   ]
  },
  {
   "cell_type": "code",
   "execution_count": 18,
   "metadata": {},
   "outputs": [],
   "source": [
    "Field_100 = soup.find_all(class_='lst100')"
   ]
  },
  {
   "cell_type": "code",
   "execution_count": 19,
   "metadata": {},
   "outputs": [],
   "source": [
    "Append_Field(Field_100)"
   ]
  },
  {
   "cell_type": "code",
   "execution_count": 20,
   "metadata": {},
   "outputs": [],
   "source": [
    "df = pd.DataFrame(dict(zip(['순위', '제목', '가수', '앨범명', '전월 순위'], [Rank, Song, Singer, Album, Month_Rank])))"
   ]
  },
  {
   "cell_type": "code",
   "execution_count": 21,
   "metadata": {},
   "outputs": [],
   "source": [
    "df = df.set_index('순위')"
   ]
  },
  {
   "cell_type": "code",
   "execution_count": 22,
   "metadata": {},
   "outputs": [
    {
     "data": {
      "text/html": [
       "<div>\n",
       "<style scoped>\n",
       "    .dataframe tbody tr th:only-of-type {\n",
       "        vertical-align: middle;\n",
       "    }\n",
       "\n",
       "    .dataframe tbody tr th {\n",
       "        vertical-align: top;\n",
       "    }\n",
       "\n",
       "    .dataframe thead th {\n",
       "        text-align: right;\n",
       "    }\n",
       "</style>\n",
       "<table border=\"1\" class=\"dataframe\">\n",
       "  <thead>\n",
       "    <tr style=\"text-align: right;\">\n",
       "      <th></th>\n",
       "      <th>제목</th>\n",
       "      <th>가수</th>\n",
       "      <th>앨범명</th>\n",
       "      <th>전월 순위</th>\n",
       "    </tr>\n",
       "    <tr>\n",
       "      <th>순위</th>\n",
       "      <th></th>\n",
       "      <th></th>\n",
       "      <th></th>\n",
       "      <th></th>\n",
       "    </tr>\n",
       "  </thead>\n",
       "  <tbody>\n",
       "    <tr>\n",
       "      <th>1</th>\n",
       "      <td>에잇(Prod.&amp;Feat. SUGA of BTS)</td>\n",
       "      <td>아이유</td>\n",
       "      <td>에잇</td>\n",
       "      <td>1</td>\n",
       "    </tr>\n",
       "    <tr>\n",
       "      <th>2</th>\n",
       "      <td>사랑하게 될 줄 알았어</td>\n",
       "      <td>전미도</td>\n",
       "      <td>슬기로운 의사생활 OST Part 11</td>\n",
       "      <td>2</td>\n",
       "    </tr>\n",
       "    <tr>\n",
       "      <th>3</th>\n",
       "      <td>아로하</td>\n",
       "      <td>조정석</td>\n",
       "      <td>슬기로운 의사생활 OST Part 3</td>\n",
       "      <td>3</td>\n",
       "    </tr>\n",
       "    <tr>\n",
       "      <th>4</th>\n",
       "      <td>MORE &amp; MORE</td>\n",
       "      <td>TWICE (트와이스)</td>\n",
       "      <td>MORE &amp; MORE</td>\n",
       "      <td>4</td>\n",
       "    </tr>\n",
       "    <tr>\n",
       "      <th>5</th>\n",
       "      <td>깡 Official Remix</td>\n",
       "      <td>식케이 (Sik-K)</td>\n",
       "      <td>깡 Official Remix</td>\n",
       "      <td>5</td>\n",
       "    </tr>\n",
       "    <tr>\n",
       "      <th>...</th>\n",
       "      <td>...</td>\n",
       "      <td>...</td>\n",
       "      <td>...</td>\n",
       "      <td>...</td>\n",
       "    </tr>\n",
       "    <tr>\n",
       "      <th>96</th>\n",
       "      <td>Paris In The Rain</td>\n",
       "      <td>Lauv</td>\n",
       "      <td>I met you when I was 18. (the playlist)</td>\n",
       "      <td>-1</td>\n",
       "    </tr>\n",
       "    <tr>\n",
       "      <th>97</th>\n",
       "      <td>HIP</td>\n",
       "      <td>마마무 (Mamamoo)</td>\n",
       "      <td>reality in BLACK</td>\n",
       "      <td>98</td>\n",
       "    </tr>\n",
       "    <tr>\n",
       "      <th>98</th>\n",
       "      <td>고맙소</td>\n",
       "      <td>김호중</td>\n",
       "      <td>내일은 미스터트롯 결승전 베스트</td>\n",
       "      <td>94</td>\n",
       "    </tr>\n",
       "    <tr>\n",
       "      <th>99</th>\n",
       "      <td>태양처럼</td>\n",
       "      <td>하현우 (국카스텐)</td>\n",
       "      <td>태양처럼</td>\n",
       "      <td>90</td>\n",
       "    </tr>\n",
       "    <tr>\n",
       "      <th>100</th>\n",
       "      <td>미워요</td>\n",
       "      <td>임영웅</td>\n",
       "      <td>미워요 / 소나기</td>\n",
       "      <td>-1</td>\n",
       "    </tr>\n",
       "  </tbody>\n",
       "</table>\n",
       "<p>100 rows × 4 columns</p>\n",
       "</div>"
      ],
      "text/plain": [
       "                              제목             가수  \\\n",
       "순위                                                \n",
       "1    에잇(Prod.&Feat. SUGA of BTS)            아이유   \n",
       "2                   사랑하게 될 줄 알았어            전미도   \n",
       "3                            아로하            조정석   \n",
       "4                    MORE & MORE   TWICE (트와이스)   \n",
       "5               깡 Official Remix    식케이 (Sik-K)   \n",
       "..                           ...            ...   \n",
       "96             Paris In The Rain           Lauv   \n",
       "97                           HIP  마마무 (Mamamoo)   \n",
       "98                           고맙소            김호중   \n",
       "99                          태양처럼     하현우 (국카스텐)   \n",
       "100                          미워요            임영웅   \n",
       "\n",
       "                                         앨범명 전월 순위  \n",
       "순위                                                  \n",
       "1                                         에잇     1  \n",
       "2                      슬기로운 의사생활 OST Part 11     2  \n",
       "3                       슬기로운 의사생활 OST Part 3     3  \n",
       "4                                MORE & MORE     4  \n",
       "5                           깡 Official Remix     5  \n",
       "..                                       ...   ...  \n",
       "96   I met you when I was 18. (the playlist)    -1  \n",
       "97                          reality in BLACK    98  \n",
       "98                         내일은 미스터트롯 결승전 베스트    94  \n",
       "99                                      태양처럼    90  \n",
       "100                                미워요 / 소나기    -1  \n",
       "\n",
       "[100 rows x 4 columns]"
      ]
     },
     "execution_count": 22,
     "metadata": {},
     "output_type": "execute_result"
    }
   ],
   "source": [
    "df"
   ]
  },
  {
   "cell_type": "code",
   "execution_count": 23,
   "metadata": {
    "scrolled": true
   },
   "outputs": [
    {
     "data": {
      "text/html": [
       "<div>\n",
       "<style scoped>\n",
       "    .dataframe tbody tr th:only-of-type {\n",
       "        vertical-align: middle;\n",
       "    }\n",
       "\n",
       "    .dataframe tbody tr th {\n",
       "        vertical-align: top;\n",
       "    }\n",
       "\n",
       "    .dataframe thead th {\n",
       "        text-align: right;\n",
       "    }\n",
       "</style>\n",
       "<table border=\"1\" class=\"dataframe\">\n",
       "  <thead>\n",
       "    <tr style=\"text-align: right;\">\n",
       "      <th></th>\n",
       "      <th>제목</th>\n",
       "      <th>가수</th>\n",
       "      <th>앨범명</th>\n",
       "      <th>전월 순위</th>\n",
       "    </tr>\n",
       "    <tr>\n",
       "      <th>순위</th>\n",
       "      <th></th>\n",
       "      <th></th>\n",
       "      <th></th>\n",
       "      <th></th>\n",
       "    </tr>\n",
       "  </thead>\n",
       "  <tbody>\n",
       "    <tr>\n",
       "      <th>1</th>\n",
       "      <td>에잇(Prod.&amp;Feat. SUGA of BTS)</td>\n",
       "      <td>아이유</td>\n",
       "      <td>에잇</td>\n",
       "      <td>1</td>\n",
       "    </tr>\n",
       "    <tr>\n",
       "      <th>2</th>\n",
       "      <td>사랑하게 될 줄 알았어</td>\n",
       "      <td>전미도</td>\n",
       "      <td>슬기로운 의사생활 OST Part 11</td>\n",
       "      <td>2</td>\n",
       "    </tr>\n",
       "    <tr>\n",
       "      <th>3</th>\n",
       "      <td>아로하</td>\n",
       "      <td>조정석</td>\n",
       "      <td>슬기로운 의사생활 OST Part 3</td>\n",
       "      <td>3</td>\n",
       "    </tr>\n",
       "    <tr>\n",
       "      <th>4</th>\n",
       "      <td>MORE &amp; MORE</td>\n",
       "      <td>TWICE (트와이스)</td>\n",
       "      <td>MORE &amp; MORE</td>\n",
       "      <td>4</td>\n",
       "    </tr>\n",
       "    <tr>\n",
       "      <th>5</th>\n",
       "      <td>깡 Official Remix</td>\n",
       "      <td>식케이 (Sik-K)</td>\n",
       "      <td>깡 Official Remix</td>\n",
       "      <td>5</td>\n",
       "    </tr>\n",
       "    <tr>\n",
       "      <th>6</th>\n",
       "      <td>살짝 설렜어 (Nonstop)</td>\n",
       "      <td>오마이걸</td>\n",
       "      <td>NONSTOP</td>\n",
       "      <td>6</td>\n",
       "    </tr>\n",
       "    <tr>\n",
       "      <th>7</th>\n",
       "      <td>ON</td>\n",
       "      <td>방탄소년단</td>\n",
       "      <td>MAP OF THE SOUL : 7</td>\n",
       "      <td>7</td>\n",
       "    </tr>\n",
       "    <tr>\n",
       "      <th>8</th>\n",
       "      <td>Candy</td>\n",
       "      <td>백현 (BAEKHYUN)</td>\n",
       "      <td>Delight - The 2nd Mini Album</td>\n",
       "      <td>8</td>\n",
       "    </tr>\n",
       "    <tr>\n",
       "      <th>9</th>\n",
       "      <td>나비와 고양이 (feat.백현 (BAEKHYUN))</td>\n",
       "      <td>볼빨간사춘기</td>\n",
       "      <td>사춘기집Ⅱ 꽃 본 나비</td>\n",
       "      <td>9</td>\n",
       "    </tr>\n",
       "    <tr>\n",
       "      <th>10</th>\n",
       "      <td>좋은 사람 있으면 소개시켜줘</td>\n",
       "      <td>조이 (JOY)</td>\n",
       "      <td>슬기로운 의사생활 OST Part 2</td>\n",
       "      <td>11</td>\n",
       "    </tr>\n",
       "  </tbody>\n",
       "</table>\n",
       "</div>"
      ],
      "text/plain": [
       "                              제목             가수                           앨범명  \\\n",
       "순위                                                                              \n",
       "1    에잇(Prod.&Feat. SUGA of BTS)            아이유                            에잇   \n",
       "2                   사랑하게 될 줄 알았어            전미도         슬기로운 의사생활 OST Part 11   \n",
       "3                            아로하            조정석          슬기로운 의사생활 OST Part 3   \n",
       "4                    MORE & MORE   TWICE (트와이스)                   MORE & MORE   \n",
       "5               깡 Official Remix    식케이 (Sik-K)              깡 Official Remix   \n",
       "6               살짝 설렜어 (Nonstop)           오마이걸                       NONSTOP   \n",
       "7                             ON          방탄소년단           MAP OF THE SOUL : 7   \n",
       "8                          Candy  백현 (BAEKHYUN)  Delight - The 2nd Mini Album   \n",
       "9   나비와 고양이 (feat.백현 (BAEKHYUN))         볼빨간사춘기                  사춘기집Ⅱ 꽃 본 나비   \n",
       "10               좋은 사람 있으면 소개시켜줘       조이 (JOY)          슬기로운 의사생활 OST Part 2   \n",
       "\n",
       "   전월 순위  \n",
       "순위        \n",
       "1      1  \n",
       "2      2  \n",
       "3      3  \n",
       "4      4  \n",
       "5      5  \n",
       "6      6  \n",
       "7      7  \n",
       "8      8  \n",
       "9      9  \n",
       "10    11  "
      ]
     },
     "execution_count": 23,
     "metadata": {},
     "output_type": "execute_result"
    }
   ],
   "source": [
    "df[0:10]"
   ]
  },
  {
   "cell_type": "code",
   "execution_count": 13,
   "metadata": {},
   "outputs": [
    {
     "data": {
      "image/png": "[encoded data removed]",
      "text/plain": [
       "<Figure size 1080x648 with 1 Axes>"
      ]
     },
     "metadata": {
      "needs_background": "light"
     },
     "output_type": "display_data"
    }
   ],
   "source": [
    "linestyles = ['-', '--', '-.', ':']\n",
    "sin = np.sin(x)\n",
    "cos = np.cos(x)\n",
    "plt.plot(x, sin, ls=linestyles[3], label='sin')\n",
    "plt.plot(x, cos, ls=linestyles[1], label='cos')\n",
    "\n",
    "plt.title(\"Graph of sin cos\")\n",
    "\n",
    "plt.xlabel('radians')\n",
    "\n",
    "plt.ylabel('value')\n",
    "\n",
    "plt.grid()\n",
    "\n",
    "plt.legend()\n",
    "\n",
    "plt.show()"
   ]
  },
  {
   "cell_type": "code",
   "execution_count": 77,
   "metadata": {},
   "outputs": [],
   "source": [
    "m = np.arange(10,1, -1)\n",
    "y = np.arange(1,10)\n",
    "v = 10\n",
    "g = 9.8"
   ]
  },
  {
   "cell_type": "code",
   "execution_count": 78,
   "metadata": {},
   "outputs": [
    {
     "data": {
      "text/plain": [
       "array([50., 45., 40., 35., 30., 25., 20., 15., 10.])"
      ]
     },
     "execution_count": 78,
     "metadata": {},
     "output_type": "execute_result"
    }
   ],
   "source": [
    "x1 = 1/2*m*v\n",
    "x1"
   ]
  },
  {
   "cell_type": "code",
   "execution_count": 79,
   "metadata": {},
   "outputs": [
    {
     "data": {
      "text/plain": [
       "array([ 98. , 176.4, 235.2, 274.4, 294. , 294. , 274.4, 235.2, 176.4])"
      ]
     },
     "execution_count": 79,
     "metadata": {},
     "output_type": "execute_result"
    }
   ],
   "source": [
    "x2 =  m * g * y\n",
    "x2"
   ]
  },
  {
   "cell_type": "code",
   "execution_count": 80,
   "metadata": {},
   "outputs": [
    {
     "data": {
      "text/plain": [
       "array([148. , 221.4, 275.2, 309.4, 324. , 319. , 294.4, 250.2, 186.4])"
      ]
     },
     "execution_count": 80,
     "metadata": {},
     "output_type": "execute_result"
    }
   ],
   "source": [
    "x3 = x1 + x2\n",
    "x3"
   ]
  },
  {
   "cell_type": "code",
   "execution_count": 81,
   "metadata": {},
   "outputs": [
    {
     "data": {
      "text/plain": [
       "[<matplotlib.lines.Line2D at 0x1ed868febc8>]"
      ]
     },
     "execution_count": 81,
     "metadata": {},
     "output_type": "execute_result"
    },
    {
     "data": {
      "image/png": "[encoded data removed]",
      "text/plain": [
       "<Figure size 1080x648 with 1 Axes>"
      ]
     },
     "metadata": {
      "needs_background": "light"
     },
     "output_type": "display_data"
    }
   ],
   "source": [
    "plt.plot(x1)\n",
    "plt.plot(x2)"
   ]
  },
  {
   "cell_type": "code",
   "execution_count": null,
   "metadata": {},
   "outputs": [],
   "source": []
  },
  {
   "cell_type": "code",
   "execution_count": null,
   "metadata": {},
   "outputs": [],
   "source": []
  }
 ],
 "metadata": {
  "kernelspec": {
   "display_name": "Python 3",
   "language": "python",
   "name": "python3"
  },
  "language_info": {
   "codemirror_mode": {
    "name": "ipython",
    "version": 3
   },
   "file_extension": ".py",
   "mimetype": "text/x-python",
   "name": "python",
   "nbconvert_exporter": "python",
   "pygments_lexer": "ipython3",
   "version": "3.7.6"
  }
 },
 "nbformat": 4,
 "nbformat_minor": 4
}
